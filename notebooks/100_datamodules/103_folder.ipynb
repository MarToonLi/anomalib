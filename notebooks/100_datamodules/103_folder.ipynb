{
 "cells": [
  {
   "cell_type": "code",
   "execution_count": 14,
   "metadata": {},
   "outputs": [],
   "source": [
    "import os\n",
    "import numpy as np\n",
    "from PIL import Image\n",
    "from pathlib import Path\n",
    "from torchvision.transforms.v2 import Resize\n",
    "from torchvision.transforms.v2.functional import to_pil_image\n",
    "\n",
    "from anomalib.data.image.folder import Folder, FolderDataset\n",
    "from anomalib import TaskType"
   ]
  },
  {
   "cell_type": "code",
   "execution_count": 15,
   "metadata": {},
   "outputs": [],
   "source": [
    "def draw_pic(inferencer, png_files, input_path, outpath):\n",
    "    from anomalib.data.utils import read_image\n",
    "    import time\n",
    "    import matplotlib.pyplot as plt\n",
    "\n",
    "\n",
    "    for file_name in png_files:\n",
    "            \n",
    "        image = read_image(path=os.path.join(input_path, file_name))\n",
    "\n",
    "        # 记录开始时间\n",
    "        start_time = time.time()\n",
    "        predictions = inferencer.predict(image=image)\n",
    "        # 记录结束时间\n",
    "        end_time = time.time()\n",
    "\n",
    "        # 计算耗时\n",
    "        elapsed_time = end_time - start_time\n",
    "        print(f\"Prediction took {elapsed_time:.4f} seconds.\")\n",
    "        print(predictions.pred_score, predictions.pred_label)\n",
    "        # 创建一个新的图形窗口\n",
    "        fig, axs = plt.subplots(1, 3, figsize=(18, 8))  # 创建一个1行3列的子图网格\n",
    "\n",
    "        # 原始图像\n",
    "        axs[0].imshow(image)\n",
    "        axs[0].set_title('Original Image')\n",
    "        axs[0].axis('off')  # 关闭坐标轴\n",
    "\n",
    "        # 热图\n",
    "        axs[1].imshow(predictions.heat_map, cmap='hot', interpolation='nearest')\n",
    "        axs[1].set_title('Heat Map')\n",
    "        axs[1].axis('off')  # 关闭坐标轴\n",
    "\n",
    "        # 预测掩模\n",
    "        axs[2].imshow(predictions.pred_mask, cmap='gray', interpolation='nearest')\n",
    "        axs[2].set_title('Predicted Mask')\n",
    "        axs[2].axis('off')  # 关闭坐标轴\n",
    "\n",
    "\n",
    "        # 添加文本信息到图形的上方中间位置\n",
    "        fig_text_x = 0.1  # x坐标在图形宽度的中心位置\n",
    "        fig_text_y = 0.95  # y坐标稍微靠近图形的顶部，避免与子图重叠\n",
    "        fig.text(fig_text_x, fig_text_y,\n",
    "                f'Prediction Time: {elapsed_time:.4f} s\\n'\n",
    "                f'Predicted Class: {predictions.pred_label}\\n'\n",
    "                # f'Score: {predictions.pred_score:.4f}\\n'\n",
    "                f'Threshold: {predictions.pred_score:.4f}' if hasattr(predictions, 'pred_score') else '',\n",
    "                ha='left', va='center', fontsize=12,\n",
    "                bbox=dict(boxstyle=\"round\", fc=\"w\", ec=\"0.5\", alpha=0.5))  \n",
    "\n",
    "        # 显示整个图形\n",
    "        plt.tight_layout()  # 调整子图间的间距\n",
    "        #plt.show()\n",
    "        plt.savefig(os.path.join(outpath, file_name))\n",
    "        plt.close()\n",
    "        \n",
    "    print(\"Done\")"
   ]
  },
  {
   "cell_type": "markdown",
   "metadata": {},
   "source": [
    "## 参数配置"
   ]
  },
  {
   "cell_type": "code",
   "execution_count": 16,
   "metadata": {},
   "outputs": [
    {
     "name": "stdout",
     "output_type": "stream",
     "text": [
      "dataset_root: F:\\Projects\\anomalib\\notebooks\\datasets\\3-5\n"
     ]
    }
   ],
   "source": [
    "configs = {\n",
    "    \"dataset_root\": r\"F:\\Projects\\anomalib\\notebooks\\datasets\\3-5\",\n",
    "    \"outputs_path\": r\"F:\\Projects\\anomalib\\notebooks\\datasets\\3-5\\outputs\",\n",
    "    \"model_name\": \"Fastflow\",\n",
    "}\n",
    "\n",
    "dataset_root = configs[\"dataset_root\"]\n",
    "print(\"dataset_root: {}\".format(dataset_root))\n",
    "\n",
    "normal_folder_path = os.path.join(configs[\"dataset_root\"], \"normal\")\n",
    "abnormal_folder_path = os.path.join(configs[\"dataset_root\"], \"abnormal\")\n",
    "\n",
    "normal_ouput_path = os.path.join(configs[\"outputs_path\"], configs[\"model_name\"] , \"normal_outputs\")\n",
    "abnormal_output_path = os.path.join(configs[\"outputs_path\"], configs[\"model_name\"] , \"abnormal_outputs\")"
   ]
  },
  {
   "cell_type": "markdown",
   "metadata": {},
   "source": [
    "## Custom 数据集配置"
   ]
  },
  {
   "cell_type": "code",
   "execution_count": 17,
   "metadata": {},
   "outputs": [
    {
     "name": "stderr",
     "output_type": "stream",
     "text": [
      "INFO:anomalib.data.base.datamodule:No normal test images found. Sampling from training set using a split ratio of 0.20\n"
     ]
    }
   ],
   "source": [
    "folder_datamodule = Folder(\n",
    "    name=\"3-5\",\n",
    "    root=dataset_root,\n",
    "    normal_dir=\"normal\",\n",
    "    abnormal_dir=\"abnormal\",\n",
    "    task=TaskType.CLASSIFICATION,\n",
    "    image_size=(256, 256),\n",
    ")\n",
    "\n",
    "folder_datamodule.setup()            #! 进行数据集分割"
   ]
  },
  {
   "cell_type": "markdown",
   "metadata": {},
   "source": [
    "==> 检查训练集、验证集、测试集的数据量"
   ]
  },
  {
   "cell_type": "code",
   "execution_count": 18,
   "metadata": {},
   "outputs": [
    {
     "name": "stdout",
     "output_type": "stream",
     "text": [
      "dict_keys(['image_path', 'label', 'image']) torch.Size([16, 3, 256, 256])\n"
     ]
    }
   ],
   "source": [
    "# Train images\n",
    "i, data = next(enumerate(folder_datamodule.train_dataloader()))\n",
    "print(data.keys(), data[\"image\"].shape)"
   ]
  },
  {
   "cell_type": "code",
   "execution_count": 19,
   "metadata": {},
   "outputs": [
    {
     "name": "stdout",
     "output_type": "stream",
     "text": [
      "dict_keys(['image_path', 'label', 'image']) torch.Size([17, 3, 256, 256])\n"
     ]
    }
   ],
   "source": [
    "# Train images\n",
    "i, data = next(enumerate(folder_datamodule.val_dataloader()))\n",
    "print(data.keys(), data[\"image\"].shape)"
   ]
  },
  {
   "cell_type": "code",
   "execution_count": 20,
   "metadata": {},
   "outputs": [
    {
     "name": "stdout",
     "output_type": "stream",
     "text": [
      "dict_keys(['image_path', 'label', 'image']) torch.Size([18, 3, 256, 256])\n"
     ]
    }
   ],
   "source": [
    "# Test images\n",
    "i, data = next(enumerate(folder_datamodule.test_dataloader()))\n",
    "print(data.keys(), data[\"image\"].shape)"
   ]
  },
  {
   "cell_type": "markdown",
   "metadata": {},
   "source": [
    "==> 查看图像内容"
   ]
  },
  {
   "cell_type": "code",
   "execution_count": 21,
   "metadata": {},
   "outputs": [
    {
     "data": {
      "image/jpeg": "[encoded data removed]",
      "image/png": "[encoded data removed]",
      "text/plain": [
       "<PIL.Image.Image image mode=RGB size=256x256>"
      ]
     },
     "execution_count": 21,
     "metadata": {},
     "output_type": "execute_result"
    }
   ],
   "source": [
    "img = to_pil_image(data[\"image\"][0].clone())\n",
    "# msk = to_pil_image(data[\"mask\"][0]).convert(\"RGB\")\n",
    "Image.fromarray((np.array(img)))"
   ]
  },
  {
   "cell_type": "markdown",
   "metadata": {},
   "source": [
    "## 模型选择和优化器配置"
   ]
  },
  {
   "cell_type": "code",
   "execution_count": null,
   "metadata": {},
   "outputs": [
    {
     "name": "stderr",
     "output_type": "stream",
     "text": [
      "INFO:anomalib.models.components.base.anomaly_module:Initializing Fastflow model.\n",
      "GPU available: True (cuda), used: True\n",
      "TPU available: False, using: 0 TPU cores\n",
      "HPU available: False, using: 0 HPUs\n",
      "WARNING:anomalib.models.components.base.anomaly_module:No implementation of `configure_transforms` was provided in the Lightning model. Using default transforms from the base class. This may not be suitable for your use case. Please override `configure_transforms` in your model.\n",
      "e:\\Appsetup\\Anaconda\\envs\\anoma\\lib\\site-packages\\lightning\\pytorch\\loops\\utilities.py:72: `max_epochs` was not set. Setting it to 1000 epochs. To train without an epoch limit, set `max_epochs=-1`.\n",
      "INFO:anomalib.data.base.datamodule:No normal test images found. Sampling from training set using a split ratio of 0.20\n",
      "WARNING:anomalib.metrics.f1_score:F1Score class exists for backwards compatibility. It will be removed in v1.1. Please use BinaryF1Score from torchmetrics instead\n",
      "INFO:timm.models._builder:Loading pretrained weights from Hugging Face hub (timm/resnet18.a1_in1k)\n",
      "INFO:timm.models._hub:[timm/resnet18.a1_in1k] Safe alternative available for 'pytorch_model.bin' (as 'model.safetensors'). Loading weights using safetensors.\n",
      "INFO:timm.models._builder:Missing keys (fc.weight, fc.bias) discovered while loading pretrained weights. This is expected if model is being adapted.\n",
      "LOCAL_RANK: 0 - CUDA_VISIBLE_DEVICES: [0]\n",
      "\n",
      "  | Name                  | Type                     | Params | Mode \n",
      "---------------------------------------------------------------------------\n",
      "0 | loss                  | FastflowLoss             | 0      | train\n",
      "1 | _transform            | Compose                  | 0      | train\n",
      "2 | normalization_metrics | MetricCollection         | 0      | train\n",
      "3 | image_threshold       | F1AdaptiveThreshold      | 0      | train\n",
      "4 | pixel_threshold       | F1AdaptiveThreshold      | 0      | train\n",
      "5 | image_metrics         | AnomalibMetricCollection | 0      | train\n",
      "6 | pixel_metrics         | AnomalibMetricCollection | 0      | train\n",
      "7 | model                 | FastflowModel            | 7.7 M  | train\n",
      "---------------------------------------------------------------------------\n",
      "3.5 M     Trainable params\n",
      "4.2 M     Non-trainable params\n",
      "7.7 M     Total params\n",
      "30.678    Total estimated model params size (MB)\n",
      "261       Modules in train mode\n",
      "0         Modules in eval mode\n",
      "e:\\Appsetup\\Anaconda\\envs\\anoma\\lib\\site-packages\\lightning\\pytorch\\trainer\\connectors\\data_connector.py:419: Consider setting `persistent_workers=True` in 'train_dataloader' to speed up the dataloader worker initialization.\n",
      "e:\\Appsetup\\Anaconda\\envs\\anoma\\lib\\site-packages\\lightning\\pytorch\\trainer\\connectors\\data_connector.py:419: Consider setting `persistent_workers=True` in 'val_dataloader' to speed up the dataloader worker initialization.\n"
     ]
    },
    {
     "data": {
      "application/vnd.jupyter.widget-view+json": {
       "model_id": "5f7040e7de8e435ebba9af3dc2c86377",
       "version_major": 2,
       "version_minor": 0
      },
      "text/plain": [
       "Training: |          | 0/? [00:00<?, ?it/s]"
      ]
     },
     "metadata": {},
     "output_type": "display_data"
    },
    {
     "name": "stderr",
     "output_type": "stream",
     "text": [
      "e:\\Appsetup\\Anaconda\\envs\\anoma\\lib\\site-packages\\lightning\\pytorch\\core\\module.py:516: You called `self.log('train_loss', ..., logger=True)` but have no logger configured. You can enable one by doing `Trainer(logger=ALogger(...))`\n"
     ]
    },
    {
     "data": {
      "application/vnd.jupyter.widget-view+json": {
       "model_id": "75f6fe7f1a984c8f88aa5ef766d891e3",
       "version_major": 2,
       "version_minor": 0
      },
      "text/plain": [
       "Validation: |          | 0/? [00:00<?, ?it/s]"
      ]
     },
     "metadata": {},
     "output_type": "display_data"
    }
   ],
   "source": [
    "from anomalib.engine import Engine\n",
    "from anomalib.models import Padim, Patchcore, Stfpm, Fastflow\n",
    "\n",
    "if configs[\"model_name\"] == \"Patchcore\":\n",
    "    model = Patchcore()\n",
    "    engine = Engine(task=TaskType.CLASSIFICATION)\n",
    "    engine.train(datamodule=folder_datamodule, model=model)\n",
    "elif configs[\"model_name\"] == \"Fastflow\":\n",
    "    model = Fastflow()\n",
    "    engine = Engine(\n",
    "    pixel_metrics=\"AUROC\",\n",
    "    accelerator=\"auto\",  # \\<\"cpu\", \"gpu\", \"tpu\", \"ipu\", \"hpu\", \"auto\">,\n",
    "    logger=False,\n",
    "    task=TaskType.CLASSIFICATION)\n",
    "    engine.train(datamodule=folder_datamodule, model=model)\n",
    "else:\n",
    "    model = Patchcore()\n",
    "    engine = Engine(task=TaskType.CLASSIFICATION)\n",
    "    engine.train(datamodule=folder_datamodule, model=model)\n",
    "    \n",
    "\n",
    "print(engine.trainer.default_root_dir)"
   ]
  },
  {
   "cell_type": "markdown",
   "metadata": {},
   "source": [
    "## 模型导出"
   ]
  },
  {
   "cell_type": "code",
   "execution_count": null,
   "metadata": {},
   "outputs": [
    {
     "name": "stderr",
     "output_type": "stream",
     "text": [
      "F:\\Projects\\anomalib\\src\\anomalib\\data\\transforms\\center_crop.py:57: TracerWarning: Converting a tensor to a Python boolean might cause the trace to be incorrect. We can't record the data flow of Python values, so this value will be treated as a constant in the future. This means that the trace might not generalize to other inputs!\n",
      "  if image.numel() == 0:\n",
      "F:\\Projects\\anomalib\\src\\anomalib\\data\\transforms\\center_crop.py:61: TracerWarning: Converting a tensor to a Python boolean might cause the trace to be incorrect. We can't record the data flow of Python values, so this value will be treated as a constant in the future. This means that the trace might not generalize to other inputs!\n",
      "  if crop_height > image_height or crop_width > image_width:\n",
      "F:\\Projects\\anomalib\\src\\anomalib\\data\\transforms\\center_crop.py:41: TracerWarning: torch.tensor results are registered as constants in the trace. You can safely ignore this warning if you use this function to create tensors out of constant variables that would be the same every time you call this function. In any other case, this might cause the trace to be incorrect.\n",
      "  crop_top = torch.tensor((image_height - crop_height) / 2.0).round().int().item()\n",
      "F:\\Projects\\anomalib\\src\\anomalib\\data\\transforms\\center_crop.py:41: UserWarning: To copy construct from a tensor, it is recommended to use sourceTensor.clone().detach() or sourceTensor.clone().detach().requires_grad_(True), rather than torch.tensor(sourceTensor).\n",
      "  crop_top = torch.tensor((image_height - crop_height) / 2.0).round().int().item()\n",
      "F:\\Projects\\anomalib\\src\\anomalib\\data\\transforms\\center_crop.py:41: TracerWarning: Converting a tensor to a Python number might cause the trace to be incorrect. We can't record the data flow of Python values, so this value will be treated as a constant in the future. This means that the trace might not generalize to other inputs!\n",
      "  crop_top = torch.tensor((image_height - crop_height) / 2.0).round().int().item()\n",
      "F:\\Projects\\anomalib\\src\\anomalib\\data\\transforms\\center_crop.py:42: TracerWarning: torch.tensor results are registered as constants in the trace. You can safely ignore this warning if you use this function to create tensors out of constant variables that would be the same every time you call this function. In any other case, this might cause the trace to be incorrect.\n",
      "  crop_left = torch.tensor((image_width - crop_width) / 2.0).round().int().item()\n",
      "F:\\Projects\\anomalib\\src\\anomalib\\data\\transforms\\center_crop.py:42: UserWarning: To copy construct from a tensor, it is recommended to use sourceTensor.clone().detach() or sourceTensor.clone().detach().requires_grad_(True), rather than torch.tensor(sourceTensor).\n",
      "  crop_left = torch.tensor((image_width - crop_width) / 2.0).round().int().item()\n",
      "F:\\Projects\\anomalib\\src\\anomalib\\data\\transforms\\center_crop.py:42: TracerWarning: Converting a tensor to a Python number might cause the trace to be incorrect. We can't record the data flow of Python values, so this value will be treated as a constant in the future. This means that the trace might not generalize to other inputs!\n",
      "  crop_left = torch.tensor((image_width - crop_width) / 2.0).round().int().item()\n",
      "F:\\Projects\\anomalib\\src\\anomalib\\models\\image\\patchcore\\torch_model.py:226: TracerWarning: Converting a tensor to a Python boolean might cause the trace to be incorrect. We can't record the data flow of Python values, so this value will be treated as a constant in the future. This means that the trace might not generalize to other inputs!\n",
      "  n_neighbors=min(self.num_neighbors, memory_bank_effective_size),\n",
      "e:\\Appsetup\\Anaconda\\envs\\anoma\\lib\\site-packages\\torch\\onnx\\symbolic_opset9.py:5385: UserWarning: Exporting aten::index operator of advanced indexing in opset 14 is achieved by combination of multiple ONNX operators, including Reshape, Transpose, Concat, and Gather. If indices include negative values, the exported graph will produce incorrect results.\n",
      "  warnings.warn(\n",
      "e:\\Appsetup\\Anaconda\\envs\\anoma\\lib\\site-packages\\torch\\onnx\\_internal\\jit_utils.py:308: UserWarning: Constant folding - Only steps=1 can be constant folded for opset >= 10 onnx::Slice op. Constant folding not applied. (Triggered internally at C:\\actions-runner\\_work\\pytorch\\pytorch\\builder\\windows\\pytorch\\torch\\csrc\\jit\\passes\\onnx\\constant_fold.cpp:180.)\n",
      "  _C._jit_pass_onnx_node_shape_type_inference(node, params_dict, opset_version)\n",
      "e:\\Appsetup\\Anaconda\\envs\\anoma\\lib\\site-packages\\torch\\onnx\\utils.py:663: UserWarning: Constant folding - Only steps=1 can be constant folded for opset >= 10 onnx::Slice op. Constant folding not applied. (Triggered internally at C:\\actions-runner\\_work\\pytorch\\pytorch\\builder\\windows\\pytorch\\torch\\csrc\\jit\\passes\\onnx\\constant_fold.cpp:180.)\n",
      "  _C._jit_pass_onnx_graph_shape_type_inference(\n",
      "e:\\Appsetup\\Anaconda\\envs\\anoma\\lib\\site-packages\\torch\\onnx\\utils.py:1186: UserWarning: Constant folding - Only steps=1 can be constant folded for opset >= 10 onnx::Slice op. Constant folding not applied. (Triggered internally at C:\\actions-runner\\_work\\pytorch\\pytorch\\builder\\windows\\pytorch\\torch\\csrc\\jit\\passes\\onnx\\constant_fold.cpp:180.)\n",
      "  _C._jit_pass_onnx_graph_shape_type_inference(\n",
      "INFO:root:Exported model to F:\\Projects\\anomalib\\notebooks\\100_datamodules\\results\\Patchcore\\3-5\\latest\\weights\\openvino\\model.xml\n"
     ]
    },
    {
     "name": "stdout",
     "output_type": "stream",
     "text": [
      "Model save to F:\\Projects\\anomalib\\notebooks\\100_datamodules\\results\\Patchcore\\3-5\\latest).\n"
     ]
    }
   ],
   "source": [
    "from anomalib.deploy import ExportType\n",
    "engine.export( model=model, export_type=ExportType.OPENVINO)\n",
    "print(f\"Model save to {engine.trainer.default_root_dir}).\") "
   ]
  },
  {
   "cell_type": "code",
   "execution_count": null,
   "metadata": {},
   "outputs": [
    {
     "name": "stdout",
     "output_type": "stream",
     "text": [
      "True True\n"
     ]
    }
   ],
   "source": [
    "model_output_path=Path(engine.trainer.default_root_dir)\n",
    "openvino_model_path = model_output_path / \"weights\" / \"openvino\" / \"model.bin\"\n",
    "metadata_path = model_output_path / \"weights\" / \"openvino\" / \"metadata.json\"\n",
    "print(openvino_model_path.exists(), metadata_path.exists())"
   ]
  },
  {
   "cell_type": "markdown",
   "metadata": {},
   "source": [
    "## 模型测试"
   ]
  },
  {
   "cell_type": "code",
   "execution_count": null,
   "metadata": {},
   "outputs": [],
   "source": [
    "from anomalib.deploy import OpenVINOInferencer\n",
    "inferencer = OpenVINOInferencer(\n",
    "    path=openvino_model_path,    # Path to the OpenVINO IR model.\n",
    "    metadata=metadata_path,      # Path to the metadata file.\n",
    "    device=\"AUTO\",               # We would like to run it on an Intel CPU.\n",
    ")"
   ]
  },
  {
   "cell_type": "code",
   "execution_count": null,
   "metadata": {},
   "outputs": [
    {
     "name": "stdout",
     "output_type": "stream",
     "text": [
      "['11__DA2951215.png', '11__DA2951225.png', '15__DA2951175.png', '17__DA2951215.png', '19__DA1479053.png', '19__DA2951175.png', '19__DA2951215.png', '1__DA2951175.png', '1__DA2951215.png', '3__DA2951175.png', '3__DA2951215.png', '3__DA2951225.png', '5__DA1479053.png', '5__DA2951175.png', '5__DA2951215.png', '7__DA1479053.png', '7__DA2951215.png', '7__DA2951225.png', '9__DA1479053.png', '9__DA2951175.png']\n",
      "['11__DA1479053.png', '11__DA2951175.png', '13__DA1479053 (2).png', '13__DA1479053.png', '13__DA2951175.png', '13__DA2951215.png', '13__DA2951225.png', '15__DA1479053 (2).png', '15__DA1479053.png', '15__DA2951215 - 副本.png', '15__DA2951215.png', '15__DA2951225 - 副本.png', '15__DA2951225.png', '17__DA1479053 (2) - 副本.png', '17__DA1479053 (2).png', '17__DA1479053 - 副本.png', '17__DA1479053.png', '17__DA2951175 - 副本.png', '17__DA2951175.png', '17__DA2951225 - 副本.png', '17__DA2951225.png', '19__DA2951225 - 副本.png', '19__DA2951225.png', '1__DA1479053 (2).png', '1__DA1479053.png', '1__DA2951225.png', '3__DA1479053.png', '5__DA2951225.png', '7__DA2951175.png', '9__DA2951215.png', '9__DA2951225.png']\n",
      "Prediction took 0.3527 seconds.\n",
      "0.38327016975095096 LabelName.NORMAL\n",
      "Prediction took 0.2780 seconds.\n",
      "0.1782886246247603 LabelName.NORMAL\n",
      "Prediction took 0.2587 seconds.\n",
      "0.4895647360825965 LabelName.NORMAL\n",
      "Prediction took 0.2678 seconds.\n",
      "0.36753848413050294 LabelName.NORMAL\n",
      "Prediction took 0.2690 seconds.\n",
      "0.6029242573572395 LabelName.ABNORMAL\n",
      "Prediction took 0.2442 seconds.\n",
      "0.4725540585190352 LabelName.NORMAL\n",
      "Prediction took 0.2667 seconds.\n",
      "0.3966220662116253 LabelName.NORMAL\n",
      "Prediction took 0.2633 seconds.\n",
      "0.4900648673988371 LabelName.NORMAL\n",
      "Prediction took 0.2988 seconds.\n",
      "0.4752060817775418 LabelName.NORMAL\n",
      "Prediction took 0.3241 seconds.\n",
      "0.39414654327646725 LabelName.NORMAL\n",
      "Prediction took 0.2540 seconds.\n",
      "0.42675702541887056 LabelName.NORMAL\n",
      "Prediction took 0.2649 seconds.\n",
      "0.3988455466850415 LabelName.NORMAL\n",
      "Prediction took 0.2724 seconds.\n",
      "0.0 LabelName.NORMAL\n",
      "Prediction took 0.2733 seconds.\n",
      "0.6404270460623483 LabelName.ABNORMAL\n",
      "Prediction took 0.2646 seconds.\n",
      "0.31382068131948815 LabelName.NORMAL\n",
      "Prediction took 0.2667 seconds.\n",
      "0.09103124196923529 LabelName.NORMAL\n",
      "Prediction took 0.2559 seconds.\n",
      "0.4111630100506344 LabelName.NORMAL\n",
      "Prediction took 0.2772 seconds.\n",
      "0.205760123352546 LabelName.NORMAL\n",
      "Prediction took 0.2673 seconds.\n",
      "0.014403838387831935 LabelName.NORMAL\n",
      "Prediction took 0.2697 seconds.\n",
      "0.5716210072096852 LabelName.ABNORMAL\n",
      "Done\n",
      "Prediction took 0.3169 seconds.\n",
      "1.0 LabelName.ABNORMAL\n"
     ]
    },
    {
     "name": "stderr",
     "output_type": "stream",
     "text": [
      "C:\\Users\\Lixutong\\AppData\\Local\\Temp\\ipykernel_19820\\2638120288.py:22: RuntimeWarning: More than 20 figures have been opened. Figures created through the pyplot interface (`matplotlib.pyplot.figure`) are retained until explicitly closed and may consume too much memory. (To control this warning, see the rcParam `figure.max_open_warning`). Consider using `matplotlib.pyplot.close()`.\n",
      "  fig, axs = plt.subplots(1, 3, figsize=(18, 8))  # 创建一个1行3列的子图网格\n"
     ]
    },
    {
     "name": "stdout",
     "output_type": "stream",
     "text": [
      "Prediction took 0.2843 seconds.\n",
      "0.9278331125902622 LabelName.ABNORMAL\n",
      "Prediction took 0.2625 seconds.\n",
      "1.0 LabelName.ABNORMAL\n",
      "Prediction took 0.2861 seconds.\n",
      "1.0 LabelName.ABNORMAL\n",
      "Prediction took 0.2674 seconds.\n",
      "1.0 LabelName.ABNORMAL\n",
      "Prediction took 0.2803 seconds.\n",
      "0.4818724283902888 LabelName.NORMAL\n",
      "Prediction took 0.2757 seconds.\n",
      "1.0 LabelName.ABNORMAL\n",
      "Prediction took 0.2704 seconds.\n",
      "0.9471380119568379 LabelName.ABNORMAL\n",
      "Prediction took 0.2817 seconds.\n",
      "0.9471380119568379 LabelName.ABNORMAL\n",
      "Prediction took 0.2897 seconds.\n",
      "0.5777762088860147 LabelName.ABNORMAL\n",
      "Prediction took 0.2771 seconds.\n",
      "0.5777762088860147 LabelName.ABNORMAL\n",
      "Prediction took 0.2713 seconds.\n",
      "1.0 LabelName.ABNORMAL\n",
      "Prediction took 0.2853 seconds.\n",
      "1.0 LabelName.ABNORMAL\n",
      "Prediction took 0.2788 seconds.\n",
      "1.0 LabelName.ABNORMAL\n",
      "Prediction took 0.2787 seconds.\n",
      "1.0 LabelName.ABNORMAL\n",
      "Prediction took 0.2848 seconds.\n",
      "1.0 LabelName.ABNORMAL\n",
      "Prediction took 0.2893 seconds.\n",
      "1.0 LabelName.ABNORMAL\n",
      "Prediction took 0.3044 seconds.\n",
      "1.0 LabelName.ABNORMAL\n",
      "Prediction took 0.3076 seconds.\n",
      "1.0 LabelName.ABNORMAL\n",
      "Prediction took 0.2852 seconds.\n",
      "1.0 LabelName.ABNORMAL\n",
      "Prediction took 0.2730 seconds.\n",
      "1.0 LabelName.ABNORMAL\n",
      "Prediction took 0.2955 seconds.\n",
      "1.0 LabelName.ABNORMAL\n",
      "Prediction took 0.2313 seconds.\n",
      "1.0 LabelName.ABNORMAL\n",
      "Prediction took 0.2972 seconds.\n",
      "1.0 LabelName.ABNORMAL\n",
      "Prediction took 0.2850 seconds.\n",
      "1.0 LabelName.ABNORMAL\n",
      "Prediction took 0.2913 seconds.\n",
      "1.0 LabelName.ABNORMAL\n",
      "Prediction took 0.2827 seconds.\n",
      "0.962492410486096 LabelName.ABNORMAL\n",
      "Prediction took 0.2616 seconds.\n",
      "1.0 LabelName.ABNORMAL\n",
      "Prediction took 0.2836 seconds.\n",
      "1.0 LabelName.ABNORMAL\n",
      "Prediction took 0.4020 seconds.\n",
      "0.8098425052314696 LabelName.ABNORMAL\n",
      "Prediction took 0.3008 seconds.\n",
      "0.8414304151005205 LabelName.ABNORMAL\n",
      "Done\n"
     ]
    }
   ],
   "source": [
    "# 待测试图像\n",
    "normal_png_files = [f for f in os.listdir(normal_folder_path) if f.endswith('.png')]\n",
    "abnormal_png_files = [f for f in os.listdir(abnormal_folder_path) if f.endswith('.png')]\n",
    "print(normal_png_files)\n",
    "print(abnormal_png_files)\n",
    "\n",
    "\n",
    "# 输出路径确认\n",
    "if os.path.exists(normal_ouput_path): os.removedirs(normal_ouput_path)\n",
    "if os.path.exists(abnormal_output_path): os.removedirs(abnormal_output_path)\n",
    "os.makedirs(normal_ouput_path)\n",
    "os.makedirs(abnormal_output_path)\n",
    "\n",
    "\n",
    "# 模型测试\n",
    "draw_pic(inferencer, normal_png_files, normal_folder_path, normal_ouput_path)\n",
    "draw_pic(inferencer, abnormal_png_files, abnormal_folder_path, abnormal_output_path)"
   ]
  },
  {
   "cell_type": "code",
   "execution_count": null,
   "metadata": {},
   "outputs": [],
   "source": []
  },
  {
   "cell_type": "code",
   "execution_count": null,
   "metadata": {},
   "outputs": [],
   "source": []
  },
  {
   "cell_type": "code",
   "execution_count": null,
   "metadata": {},
   "outputs": [],
   "source": []
  },
  {
   "attachments": {},
   "cell_type": "markdown",
   "metadata": {},
   "source": [
    "`Folder` data module offers much more flexibility cater all different sorts of needs. Please refer to the documentation for more details.\n"
   ]
  },
  {
   "attachments": {},
   "cell_type": "markdown",
   "metadata": {},
   "source": [
    "We can add some transforms that will be applied to the images using torchvision. Let's add a transform that resizes the \n",
    "input image to 256x256 pixels."
   ]
  },
  {
   "cell_type": "code",
   "execution_count": null,
   "metadata": {},
   "outputs": [],
   "source": [
    "image_size = (256, 256)\n",
    "transform = Resize(image_size, antialias=True)"
   ]
  },
  {
   "attachments": {},
   "cell_type": "markdown",
   "metadata": {},
   "source": [
    "#### Classification Task\n"
   ]
  },
  {
   "cell_type": "code",
   "execution_count": null,
   "metadata": {},
   "outputs": [
    {
     "data": {
      "text/html": [
       "<div>\n",
       "<style scoped>\n",
       "    .dataframe tbody tr th:only-of-type {\n",
       "        vertical-align: middle;\n",
       "    }\n",
       "\n",
       "    .dataframe tbody tr th {\n",
       "        vertical-align: top;\n",
       "    }\n",
       "\n",
       "    .dataframe thead th {\n",
       "        text-align: right;\n",
       "    }\n",
       "</style>\n",
       "<table border=\"1\" class=\"dataframe\">\n",
       "  <thead>\n",
       "    <tr style=\"text-align: right;\">\n",
       "      <th></th>\n",
       "      <th>image_path</th>\n",
       "      <th>label</th>\n",
       "      <th>label_index</th>\n",
       "      <th>mask_path</th>\n",
       "      <th>split</th>\n",
       "    </tr>\n",
       "  </thead>\n",
       "  <tbody>\n",
       "    <tr>\n",
       "      <th>0</th>\n",
       "      <td>F:\\Projects\\anomalib\\notebooks\\datasets\\3-5\\no...</td>\n",
       "      <td>DirType.NORMAL</td>\n",
       "      <td>0</td>\n",
       "      <td></td>\n",
       "      <td>Split.TRAIN</td>\n",
       "    </tr>\n",
       "    <tr>\n",
       "      <th>1</th>\n",
       "      <td>F:\\Projects\\anomalib\\notebooks\\datasets\\3-5\\no...</td>\n",
       "      <td>DirType.NORMAL</td>\n",
       "      <td>0</td>\n",
       "      <td></td>\n",
       "      <td>Split.TRAIN</td>\n",
       "    </tr>\n",
       "    <tr>\n",
       "      <th>2</th>\n",
       "      <td>F:\\Projects\\anomalib\\notebooks\\datasets\\3-5\\no...</td>\n",
       "      <td>DirType.NORMAL</td>\n",
       "      <td>0</td>\n",
       "      <td></td>\n",
       "      <td>Split.TRAIN</td>\n",
       "    </tr>\n",
       "    <tr>\n",
       "      <th>3</th>\n",
       "      <td>F:\\Projects\\anomalib\\notebooks\\datasets\\3-5\\no...</td>\n",
       "      <td>DirType.NORMAL</td>\n",
       "      <td>0</td>\n",
       "      <td></td>\n",
       "      <td>Split.TRAIN</td>\n",
       "    </tr>\n",
       "    <tr>\n",
       "      <th>4</th>\n",
       "      <td>F:\\Projects\\anomalib\\notebooks\\datasets\\3-5\\no...</td>\n",
       "      <td>DirType.NORMAL</td>\n",
       "      <td>0</td>\n",
       "      <td></td>\n",
       "      <td>Split.TRAIN</td>\n",
       "    </tr>\n",
       "  </tbody>\n",
       "</table>\n",
       "</div>"
      ],
      "text/plain": [
       "                                          image_path           label  \\\n",
       "0  F:\\Projects\\anomalib\\notebooks\\datasets\\3-5\\no...  DirType.NORMAL   \n",
       "1  F:\\Projects\\anomalib\\notebooks\\datasets\\3-5\\no...  DirType.NORMAL   \n",
       "2  F:\\Projects\\anomalib\\notebooks\\datasets\\3-5\\no...  DirType.NORMAL   \n",
       "3  F:\\Projects\\anomalib\\notebooks\\datasets\\3-5\\no...  DirType.NORMAL   \n",
       "4  F:\\Projects\\anomalib\\notebooks\\datasets\\3-5\\no...  DirType.NORMAL   \n",
       "\n",
       "   label_index mask_path        split  \n",
       "0            0            Split.TRAIN  \n",
       "1            0            Split.TRAIN  \n",
       "2            0            Split.TRAIN  \n",
       "3            0            Split.TRAIN  \n",
       "4            0            Split.TRAIN  "
      ]
     },
     "execution_count": 25,
     "metadata": {},
     "output_type": "execute_result"
    }
   ],
   "source": [
    "folder_dataset_classification_train = FolderDataset(\n",
    "    name=\"3-5\",\n",
    "    normal_dir=dataset_root / \"normal\",\n",
    "    abnormal_dir=dataset_root / \"abnormal\",\n",
    "    split=\"train\",\n",
    "    transform=transform,\n",
    "    task=TaskType.CLASSIFICATION,\n",
    ")\n",
    "folder_dataset_classification_train.samples.head()"
   ]
  },
  {
   "attachments": {},
   "cell_type": "markdown",
   "metadata": {},
   "source": [
    "Let's look at the first sample in the dataset.\n"
   ]
  },
  {
   "cell_type": "code",
   "execution_count": null,
   "metadata": {},
   "outputs": [
    {
     "name": "stdout",
     "output_type": "stream",
     "text": [
      "dict_keys(['image_path', 'label', 'image']) torch.Size([3, 256, 256])\n"
     ]
    },
    {
     "data": {
      "text/plain": [
       "<matplotlib.image.AxesImage at 0x18100672800>"
      ]
     },
     "execution_count": 26,
     "metadata": {},
     "output_type": "execute_result"
    },
    {
     "data": {
      "image/png": "[encoded data removed]",
      "text/plain": [
       "<Figure size 640x480 with 1 Axes>"
      ]
     },
     "metadata": {},
     "output_type": "display_data"
    }
   ],
   "source": [
    "data = folder_dataset_classification_train[0]\n",
    "print(data.keys(), data[\"image\"].shape)\n",
    "import matplotlib.pyplot as plt\n",
    "plt.imshow(data[\"image\"][2])   # RGB"
   ]
  },
  {
   "attachments": {},
   "cell_type": "markdown",
   "metadata": {},
   "source": [
    "As can be seen above, when we choose `classification` task and `train` split, the dataset only returns `image`. This is mainly because training only requires normal images and no labels. Now let's try `test` split for the `classification` task\n"
   ]
  },
  {
   "cell_type": "code",
   "execution_count": null,
   "metadata": {},
   "outputs": [
    {
     "data": {
      "text/html": [
       "<div>\n",
       "<style scoped>\n",
       "    .dataframe tbody tr th:only-of-type {\n",
       "        vertical-align: middle;\n",
       "    }\n",
       "\n",
       "    .dataframe tbody tr th {\n",
       "        vertical-align: top;\n",
       "    }\n",
       "\n",
       "    .dataframe thead th {\n",
       "        text-align: right;\n",
       "    }\n",
       "</style>\n",
       "<table border=\"1\" class=\"dataframe\">\n",
       "  <thead>\n",
       "    <tr style=\"text-align: right;\">\n",
       "      <th></th>\n",
       "      <th>image_path</th>\n",
       "      <th>label</th>\n",
       "      <th>label_index</th>\n",
       "      <th>mask_path</th>\n",
       "      <th>split</th>\n",
       "    </tr>\n",
       "  </thead>\n",
       "  <tbody>\n",
       "    <tr>\n",
       "      <th>0</th>\n",
       "      <td>F:\\Projects\\anomalib\\notebooks\\datasets\\3-5\\ab...</td>\n",
       "      <td>DirType.ABNORMAL</td>\n",
       "      <td>1</td>\n",
       "      <td></td>\n",
       "      <td>Split.TEST</td>\n",
       "    </tr>\n",
       "    <tr>\n",
       "      <th>1</th>\n",
       "      <td>F:\\Projects\\anomalib\\notebooks\\datasets\\3-5\\ab...</td>\n",
       "      <td>DirType.ABNORMAL</td>\n",
       "      <td>1</td>\n",
       "      <td></td>\n",
       "      <td>Split.TEST</td>\n",
       "    </tr>\n",
       "    <tr>\n",
       "      <th>2</th>\n",
       "      <td>F:\\Projects\\anomalib\\notebooks\\datasets\\3-5\\ab...</td>\n",
       "      <td>DirType.ABNORMAL</td>\n",
       "      <td>1</td>\n",
       "      <td></td>\n",
       "      <td>Split.TEST</td>\n",
       "    </tr>\n",
       "    <tr>\n",
       "      <th>3</th>\n",
       "      <td>F:\\Projects\\anomalib\\notebooks\\datasets\\3-5\\ab...</td>\n",
       "      <td>DirType.ABNORMAL</td>\n",
       "      <td>1</td>\n",
       "      <td></td>\n",
       "      <td>Split.TEST</td>\n",
       "    </tr>\n",
       "    <tr>\n",
       "      <th>4</th>\n",
       "      <td>F:\\Projects\\anomalib\\notebooks\\datasets\\3-5\\ab...</td>\n",
       "      <td>DirType.ABNORMAL</td>\n",
       "      <td>1</td>\n",
       "      <td></td>\n",
       "      <td>Split.TEST</td>\n",
       "    </tr>\n",
       "  </tbody>\n",
       "</table>\n",
       "</div>"
      ],
      "text/plain": [
       "                                          image_path             label  \\\n",
       "0  F:\\Projects\\anomalib\\notebooks\\datasets\\3-5\\ab...  DirType.ABNORMAL   \n",
       "1  F:\\Projects\\anomalib\\notebooks\\datasets\\3-5\\ab...  DirType.ABNORMAL   \n",
       "2  F:\\Projects\\anomalib\\notebooks\\datasets\\3-5\\ab...  DirType.ABNORMAL   \n",
       "3  F:\\Projects\\anomalib\\notebooks\\datasets\\3-5\\ab...  DirType.ABNORMAL   \n",
       "4  F:\\Projects\\anomalib\\notebooks\\datasets\\3-5\\ab...  DirType.ABNORMAL   \n",
       "\n",
       "   label_index mask_path       split  \n",
       "0            1            Split.TEST  \n",
       "1            1            Split.TEST  \n",
       "2            1            Split.TEST  \n",
       "3            1            Split.TEST  \n",
       "4            1            Split.TEST  "
      ]
     },
     "execution_count": 27,
     "metadata": {},
     "output_type": "execute_result"
    }
   ],
   "source": [
    "# Folder Classification Test Set\n",
    "folder_dataset_classification_test = FolderDataset(\n",
    "    name=\"3-5\",\n",
    "    normal_dir=dataset_root / \"normal\",\n",
    "    abnormal_dir=dataset_root / \"abnormal\",\n",
    "    split=\"test\",\n",
    "    transform=transform,\n",
    "    task=TaskType.CLASSIFICATION,\n",
    ")\n",
    "folder_dataset_classification_test.samples.head()"
   ]
  },
  {
   "cell_type": "code",
   "execution_count": null,
   "metadata": {},
   "outputs": [
    {
     "name": "stdout",
     "output_type": "stream",
     "text": [
      "dict_keys(['image_path', 'label', 'image']) torch.Size([3, 256, 256]) F:\\Projects\\anomalib\\notebooks\\datasets\\3-5\\abnormal\\11__DA1479053.png 1\n"
     ]
    }
   ],
   "source": [
    "data = folder_dataset_classification_test[0]\n",
    "print(data.keys(), data[\"image\"].shape, data[\"image_path\"], data[\"label\"])"
   ]
  }
 ],
 "metadata": {
  "kernelspec": {
   "display_name": "Python 3",
   "language": "python",
   "name": "python3"
  },
  "language_info": {
   "codemirror_mode": {
    "name": "ipython",
    "version": 3
   },
   "file_extension": ".py",
   "mimetype": "text/x-python",
   "name": "python",
   "nbconvert_exporter": "python",
   "pygments_lexer": "ipython3",
   "version": "3.10.15"
  },
  "orig_nbformat": 4
 },
 "nbformat": 4,
 "nbformat_minor": 2
}
